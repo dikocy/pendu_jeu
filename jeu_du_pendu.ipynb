{
 "cells": [
  {
   "cell_type": "code",
   "execution_count": null,
   "metadata": {},
   "outputs": [],
   "source": [
    "continue_partie = True\n",
    "while continue_partie:\n",
    "    m_myst = randomWord(list_word)\n",
    "    #print(m_myst)\n",
    "    mot_veri = codeWord(m_myst)\n",
    "    i = 0\n",
    "    while i < len(m_myst):\n",
    "        char_at = charClavier()\n",
    "        if char_at in mot_veri:\n",
    "            sou_myst = m_myst[i:]\n",
    "            deviner(char_at,sou_myst)\n",
    "            indm = deviner(char_at, sou_myst)[1] + len(m_myst[0:i])\n",
    "            del mot_veri[indm]\n",
    "            mot_veri.insert(indm, deviner(char_at, m_myst)[0])\n",
    "        if deviner(char_at, m_myst) != None:\n",
    "            del mot_veri[deviner(char_at, m_myst)[1]]\n",
    "            mot_veri.insert(deviner(char_at, m_myst)[1], deviner(char_at, m_myst)[0])\n",
    "\n",
    "        print(mot_veri)\n",
    "        i += 1\n",
    "\n",
    "    if list(m_myst) == mot_veri:\n",
    "        print(\"BRAVOOOOO Vous avez deviné le mot\")\n",
    "    else :\n",
    "        print(\"TU EST UN BON à RIEN...\")\n",
    "        \n",
    "    print(\"Voulez vous rejouer ? (O/N) : \")\n",
    "    rep = input()\n",
    "    rep = rep.lower()\n",
    "    if rep == \"o\":\n",
    "        continue_partie = True\n",
    "    else :\n",
    "        print(\"A bientôt...\")\n",
    "        continue_partie = False\n"
   ]
  },
  {
   "cell_type": "markdown",
   "metadata": {},
   "source": []
  },
  {
   "cell_type": "code",
   "execution_count": 2,
   "metadata": {},
   "outputs": [],
   "source": [
    "from random import choice\n",
    "def randomWord(l):\n",
    "    #m_myster = \"\"\n",
    "    m_myster = choice(l)\n",
    "    return m_myster\n"
   ]
  },
  {
   "cell_type": "code",
   "execution_count": 3,
   "metadata": {},
   "outputs": [],
   "source": [
    "def codeWord(word):\n",
    "    i = 0\n",
    "    l =[]\n",
    "    while i < len(word):\n",
    "        l.insert(i, \"*\")\n",
    "        i += 1\n",
    "    return l      "
   ]
  },
  {
   "cell_type": "code",
   "execution_count": 4,
   "metadata": {},
   "outputs": [
    {
     "data": {
      "text/plain": [
       "'montagne'"
      ]
     },
     "execution_count": 4,
     "metadata": {},
     "output_type": "execute_result"
    }
   ],
   "source": [
    "list_word = [\n",
    "    \"armoire\",\n",
    "    \"boucle\",\n",
    "    \"buisson\",\n",
    "    \"bureau\",\n",
    "    \"chaise\",\n",
    "    \"carton\",\n",
    "    \"couteau\",\n",
    "    \"fichier\",\n",
    "    \"garage\",\n",
    "    \"glace\",\n",
    "    \"journal\",\n",
    "    \"kiwi\",\n",
    "    \"lampe\",\n",
    "    \"liste\",\n",
    "    \"montagne\",\n",
    "    \"remise\",\n",
    "    \"sandale\",\n",
    "    \"taxi\",\n",
    "    \"vampire\",\n",
    "    \"volant\"]\n",
    "randomWord(list_word)\n"
   ]
  },
  {
   "cell_type": "code",
   "execution_count": 5,
   "metadata": {},
   "outputs": [],
   "source": [
    "def charClavier():\n",
    "    char = input(\"Entrez un caractère : \")\n",
    "    char = char.lower()\n",
    "    return char"
   ]
  },
  {
   "cell_type": "code",
   "execution_count": 6,
   "metadata": {},
   "outputs": [],
   "source": [
    "def deviner(c, m):\n",
    "    ind = 0\n",
    "    if c in m :\n",
    "        ind = m.index(c)\n",
    "        return c, ind\n",
    "        #print(\"Le caractère {} est position {} du mot mystère\".format(c, ind))\n",
    "        #m_vr =\"\".join(m_code)\n",
    "        #print(m_vr)\n",
    "    else : \n",
    "        print(\"Le caractère {} ne fait pas partir du mot mystère\".format(c))\n",
    "\n",
    "#l = deviner(\"b\",\"dibi\")[1]\n",
    "#l\n",
    "#mot_veri = codeWord(\"dibi\")\n",
    "#mot_veri.insert(l[1], l[0])\n",
    "#print(mot_veri)\n"
   ]
  },
  {
   "cell_type": "code",
   "execution_count": 68,
   "metadata": {},
   "outputs": [
    {
     "data": {
      "text/plain": [
       "['d', 'i', 'b']"
      ]
     },
     "execution_count": 68,
     "metadata": {},
     "output_type": "execute_result"
    }
   ],
   "source": [
    "a = \"dibki\"\n",
    "a.index(\"k\")\n",
    "p = list(a)\n",
    "b = p[:3]\n",
    "b\n",
    "l = list()\n",
    "l.insert(2, \"d\")\n",
    "l.insert(0, \"e\")\n",
    "l.insert(3, \"P\")\n",
    "print(l)\n",
    "l.index(\"d\")\n",
    "#len(a[0:2])+ len(a[2:])"
   ]
  }
 ],
 "metadata": {
  "kernelspec": {
   "display_name": "Python 3",
   "language": "python",
   "name": "python3"
  },
  "language_info": {
   "codemirror_mode": {
    "name": "ipython",
    "version": 3
   },
   "file_extension": ".py",
   "mimetype": "text/x-python",
   "name": "python",
   "nbconvert_exporter": "python",
   "pygments_lexer": "ipython3",
   "version": "3.7.0"
  }
 },
 "nbformat": 4,
 "nbformat_minor": 2
}
