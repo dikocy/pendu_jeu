{
 "cells": [
  {
   "cell_type": "code",
   "execution_count": null,
   "metadata": {},
   "outputs": [],
   "source": [
    "\"\"\"Ce fichier définit quelques données, sous la forme de variables,\n",
    "utiles au programme pendu\"\"\"\n",
    "\n",
    "# Nombre de coups par partie\n",
    "nb_coups = 8\n",
    "\n",
    "# Nom du fichier stockant les scores\n",
    "nom_fichier_scores = \"scores\"\n",
    "\n",
    "# Liste des mots du pendu\n",
    "liste_mots = [\n",
    "    \"armoire\",\n",
    "    \"boucle\",\n",
    "    \"buisson\",\n",
    "    \"bureau\",\n",
    "    \"chaise\",\n",
    "    \"carton\",\n",
    "    \"couteau\",\n",
    "    \"fichier\",\n",
    "    \"garage\",\n",
    "    \"glace\",\n",
    "    \"journal\",\n",
    "    \"kiwi\",\n",
    "    \"lampe\",\n",
    "    \"liste\",\n",
    "    \"montagne\",\n",
    "    \"remise\",\n",
    "    \"sandale\",\n",
    "    \"taxi\",\n",
    "    \"vampire\",\n",
    "    \"volant\",\n",
    "]"
   ]
  }
 ],
 "metadata": {
  "kernelspec": {
   "display_name": "Python 3",
   "language": "python",
   "name": "python3"
  },
  "language_info": {
   "codemirror_mode": {
    "name": "ipython",
    "version": 3
   },
   "file_extension": ".py",
   "mimetype": "text/x-python",
   "name": "python",
   "nbconvert_exporter": "python",
   "pygments_lexer": "ipython3",
   "version": "3.7.0"
  }
 },
 "nbformat": 4,
 "nbformat_minor": 2
}
